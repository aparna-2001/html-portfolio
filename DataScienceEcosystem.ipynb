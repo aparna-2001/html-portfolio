{
 "cells": [
  {
   "cell_type": "markdown",
   "id": "b63d075a",
   "metadata": {},
   "source": [
    "# Data science tools and ecosystem"
   ]
  },
  {
   "cell_type": "markdown",
   "id": "3752c203",
   "metadata": {},
   "source": [
    "In this notebook data science tools and ecosystems are summarised"
   ]
  },
  {
   "cell_type": "markdown",
   "id": "034f9acc",
   "metadata": {},
   "source": [
    "Some of the popular languages data scientist use are;\n",
    "\n",
    "* Python\n",
    "* R language\n",
    "* SQL"
   ]
  },
  {
   "cell_type": "markdown",
   "id": "1fcd5371",
   "metadata": {},
   "source": [
    "Some of the commonly used libraries by data scientists include;\n",
    "\n",
    "1. numpy\n",
    "1. seaborn\n",
    "1. plotly\n",
    "1. ggplot\n",
    "1. panda\n",
    "1. caret etc"
   ]
  },
  {
   "cell_type": "markdown",
   "id": "6c86e91f",
   "metadata": {},
   "source": [
    "|Data science tools (IDE)|\n",
    "|-------------------------|\n",
    "|VS code|\n",
    "|jupyter lab|\n",
    "|google colab|\n",
    "|anaconda|\n",
    "|jupyter lite|"
   ]
  },
  {
   "cell_type": "markdown",
   "id": "2c91eca9",
   "metadata": {},
   "source": [
    "Below are few examples of evaluatiing arithmetic expression in python\n"
   ]
  },
  {
   "cell_type": "code",
   "execution_count": 1,
   "id": "dcd1e3ba",
   "metadata": {},
   "outputs": [
    {
     "data": {
      "text/plain": [
       "17"
      ]
     },
     "execution_count": 1,
     "metadata": {},
     "output_type": "execute_result"
    }
   ],
   "source": [
    "(3*4) +5\n",
    "#this is a simple aritemtic expression to multiply then add integers"
   ]
  },
  {
   "cell_type": "code",
   "execution_count": 4,
   "id": "d7ce557b",
   "metadata": {},
   "outputs": [
    {
     "data": {
      "text/plain": [
       "3.3333333333333335"
      ]
     },
     "execution_count": 4,
     "metadata": {},
     "output_type": "execute_result"
    }
   ],
   "source": [
    "200/60\n",
    "#this cell converts 200 minutes to hours"
   ]
  },
  {
   "cell_type": "markdown",
   "id": "358a8025",
   "metadata": {},
   "source": [
    "**Objectives**\n",
    "\n",
    "* some of the popular languages data scientist use\n",
    "* commonly used libraries by data scientists\n",
    "* evaluating arithmetic expression\n",
    "* some data science tools commonly used"
   ]
  },
  {
   "cell_type": "markdown",
   "id": "581bd619",
   "metadata": {},
   "source": [
    "## Author \n",
    "APARNA MP"
   ]
  }
 ],
 "metadata": {
  "kernelspec": {
   "display_name": "Python 3 (ipykernel)",
   "language": "python",
   "name": "python3"
  },
  "language_info": {
   "codemirror_mode": {
    "name": "ipython",
    "version": 3
   },
   "file_extension": ".py",
   "mimetype": "text/x-python",
   "name": "python",
   "nbconvert_exporter": "python",
   "pygments_lexer": "ipython3",
   "version": "3.10.9"
  }
 },
 "nbformat": 4,
 "nbformat_minor": 5
}
